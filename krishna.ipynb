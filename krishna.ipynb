{
 "cells": [
  {
   "cell_type": "code",
   "execution_count": 1,
   "metadata": {},
   "outputs": [
    {
     "name": "stdout",
     "output_type": "stream",
     "text": [
      "Collecting fastapi\n",
      "  Using cached fastapi-0.115.6-py3-none-any.whl.metadata (27 kB)\n",
      "Collecting starlette<0.42.0,>=0.40.0 (from fastapi)\n",
      "  Using cached starlette-0.41.3-py3-none-any.whl.metadata (6.0 kB)\n",
      "Collecting pydantic!=1.8,!=1.8.1,!=2.0.0,!=2.0.1,!=2.1.0,<3.0.0,>=1.7.4 (from fastapi)\n",
      "  Downloading pydantic-2.10.4-py3-none-any.whl.metadata (29 kB)\n",
      "Collecting typing-extensions>=4.8.0 (from fastapi)\n",
      "  Using cached typing_extensions-4.12.2-py3-none-any.whl.metadata (3.0 kB)\n",
      "Collecting annotated-types>=0.6.0 (from pydantic!=1.8,!=1.8.1,!=2.0.0,!=2.0.1,!=2.1.0,<3.0.0,>=1.7.4->fastapi)\n",
      "  Using cached annotated_types-0.7.0-py3-none-any.whl.metadata (15 kB)\n",
      "Collecting pydantic-core==2.27.2 (from pydantic!=1.8,!=1.8.1,!=2.0.0,!=2.0.1,!=2.1.0,<3.0.0,>=1.7.4->fastapi)\n",
      "  Downloading pydantic_core-2.27.2-cp312-cp312-win_amd64.whl.metadata (6.7 kB)\n",
      "Collecting anyio<5,>=3.4.0 (from starlette<0.42.0,>=0.40.0->fastapi)\n",
      "  Using cached anyio-4.7.0-py3-none-any.whl.metadata (4.7 kB)\n",
      "Requirement already satisfied: idna>=2.8 in c:\\users\\hp\\desktop\\python projects\\healthcareproject\\lib\\site-packages (from anyio<5,>=3.4.0->starlette<0.42.0,>=0.40.0->fastapi) (3.10)\n",
      "Collecting sniffio>=1.1 (from anyio<5,>=3.4.0->starlette<0.42.0,>=0.40.0->fastapi)\n",
      "  Using cached sniffio-1.3.1-py3-none-any.whl.metadata (3.9 kB)\n",
      "Using cached fastapi-0.115.6-py3-none-any.whl (94 kB)\n",
      "Downloading pydantic-2.10.4-py3-none-any.whl (431 kB)\n",
      "   ---------------------------------------- 0.0/431.8 kB ? eta -:--:--\n",
      "    --------------------------------------- 10.2/431.8 kB ? eta -:--:--\n",
      "   -- ------------------------------------ 30.7/431.8 kB 435.7 kB/s eta 0:00:01\n",
      "   --- ----------------------------------- 41.0/431.8 kB 393.8 kB/s eta 0:00:01\n",
      "   --- ----------------------------------- 41.0/431.8 kB 393.8 kB/s eta 0:00:01\n",
      "   --- ----------------------------------- 41.0/431.8 kB 393.8 kB/s eta 0:00:01\n",
      "   --- ----------------------------------- 41.0/431.8 kB 393.8 kB/s eta 0:00:01\n",
      "   ------ -------------------------------- 71.7/431.8 kB 218.6 kB/s eta 0:00:02\n",
      "   --------- ---------------------------- 112.6/431.8 kB 298.5 kB/s eta 0:00:02\n",
      "   ------------ ------------------------- 143.4/431.8 kB 355.0 kB/s eta 0:00:01\n",
      "   --------------- ---------------------- 174.1/431.8 kB 388.2 kB/s eta 0:00:01\n",
      "   --------------- ---------------------- 174.1/431.8 kB 388.2 kB/s eta 0:00:01\n",
      "   --------------- ---------------------- 174.1/431.8 kB 388.2 kB/s eta 0:00:01\n",
      "   ------------------ ------------------- 204.8/431.8 kB 336.6 kB/s eta 0:00:01\n",
      "   ---------------------- --------------- 256.0/431.8 kB 393.2 kB/s eta 0:00:01\n",
      "   --------------------------- ---------- 317.4/431.8 kB 457.1 kB/s eta 0:00:01\n",
      "   ---------------------------------- --- 389.1/431.8 kB 538.9 kB/s eta 0:00:01\n",
      "   -------------------------------------- 431.8/431.8 kB 562.0 kB/s eta 0:00:00\n",
      "Downloading pydantic_core-2.27.2-cp312-cp312-win_amd64.whl (2.0 MB)\n",
      "   ---------------------------------------- 0.0/2.0 MB ? eta -:--:--\n",
      "   --- ------------------------------------ 0.2/2.0 MB 5.3 MB/s eta 0:00:01\n",
      "   ------ --------------------------------- 0.3/2.0 MB 4.1 MB/s eta 0:00:01\n",
      "   --------- ------------------------------ 0.5/2.0 MB 3.6 MB/s eta 0:00:01\n",
      "   --------- ------------------------------ 0.5/2.0 MB 3.6 MB/s eta 0:00:01\n",
      "   --------- ------------------------------ 0.5/2.0 MB 3.6 MB/s eta 0:00:01\n",
      "   --------- ------------------------------ 0.5/2.0 MB 1.8 MB/s eta 0:00:01\n",
      "   ------------- -------------------------- 0.7/2.0 MB 2.1 MB/s eta 0:00:01\n",
      "   ---------------- ----------------------- 0.8/2.0 MB 2.3 MB/s eta 0:00:01\n",
      "   ---------------------- ----------------- 1.1/2.0 MB 2.7 MB/s eta 0:00:01\n",
      "   ---------------------------- ----------- 1.4/2.0 MB 3.1 MB/s eta 0:00:01\n",
      "   ---------------------------- ----------- 1.4/2.0 MB 3.1 MB/s eta 0:00:01\n",
      "   ---------------------------- ----------- 1.4/2.0 MB 3.1 MB/s eta 0:00:01\n",
      "   --------------------------------- ------ 1.7/2.0 MB 2.8 MB/s eta 0:00:01\n",
      "   ------------------------------------- -- 1.9/2.0 MB 2.9 MB/s eta 0:00:01\n",
      "   ---------------------------------------- 2.0/2.0 MB 2.9 MB/s eta 0:00:00\n",
      "Using cached starlette-0.41.3-py3-none-any.whl (73 kB)\n",
      "Using cached typing_extensions-4.12.2-py3-none-any.whl (37 kB)\n",
      "Using cached annotated_types-0.7.0-py3-none-any.whl (13 kB)\n",
      "Using cached anyio-4.7.0-py3-none-any.whl (93 kB)\n",
      "Using cached sniffio-1.3.1-py3-none-any.whl (10 kB)\n",
      "Installing collected packages: typing-extensions, sniffio, annotated-types, pydantic-core, anyio, starlette, pydantic, fastapi\n",
      "Successfully installed annotated-types-0.7.0 anyio-4.7.0 fastapi-0.115.6 pydantic-2.10.4 pydantic-core-2.27.2 sniffio-1.3.1 starlette-0.41.3 typing-extensions-4.12.2\n"
     ]
    },
    {
     "name": "stderr",
     "output_type": "stream",
     "text": [
      "\n",
      "[notice] A new release of pip is available: 24.0 -> 24.3.1\n",
      "[notice] To update, run: python.exe -m pip install --upgrade pip\n"
     ]
    }
   ],
   "source": [
    "! pip install fastapi"
   ]
  },
  {
   "cell_type": "code",
   "execution_count": 1,
   "metadata": {},
   "outputs": [],
   "source": [
    "from typing import Union\n",
    "\n",
    "from fastapi import FastAPI\n",
    "\n",
    "app = FastAPI()\n",
    "\n",
    "\n",
    "@app.get(\"/\")\n",
    "def read_root():\n",
    "    return {\"Hello\": \"World\"}\n",
    "\n",
    "\n",
    "@app.get(\"/items/{item_id}\")\n",
    "def read_item(item_id: int, q: Union[str, None] = None):\n",
    "    return {\"item_id\": item_id, \"q\": q}"
   ]
  }
 ],
 "metadata": {
  "kernelspec": {
   "display_name": "healthcareproject",
   "language": "python",
   "name": "python3"
  },
  "language_info": {
   "codemirror_mode": {
    "name": "ipython",
    "version": 3
   },
   "file_extension": ".py",
   "mimetype": "text/x-python",
   "name": "python",
   "nbconvert_exporter": "python",
   "pygments_lexer": "ipython3",
   "version": "3.12.3"
  }
 },
 "nbformat": 4,
 "nbformat_minor": 2
}
