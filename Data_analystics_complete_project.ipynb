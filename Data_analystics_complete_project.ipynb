{
 "cells": [
  {
   "cell_type": "code",
   "execution_count": null,
   "metadata": {},
   "outputs": [],
   "source": [
    "import pandas as pd\n",
    "\n",
    "\n",
    "c=pd.read_csv(r\"C:\\Users\\HP\\Desktop\\python projects\\loan_data_set.csv\")\n",
    "c\n",
    "c\n",
    "c.to_csv('c.to_csv',index=\"false\")"
   ]
  },
  {
   "cell_type": "code",
   "execution_count": 5,
   "metadata": {},
   "outputs": [
    {
     "data": {
      "text/plain": [
       "<bound method hist_frame of      sepal_length  sepal_width  petal_length  petal_width    species\n",
       "0             5.1          3.5           1.4          0.2     setosa\n",
       "1             4.9          3.0           1.4          0.2     setosa\n",
       "2             4.7          3.2           1.3          0.2     setosa\n",
       "3             4.6          3.1           1.5          0.2     setosa\n",
       "4             5.0          3.6           1.4          0.2     setosa\n",
       "..            ...          ...           ...          ...        ...\n",
       "145           6.7          3.0           5.2          2.3  virginica\n",
       "146           6.3          2.5           5.0          1.9  virginica\n",
       "147           6.5          3.0           5.2          2.0  virginica\n",
       "148           6.2          3.4           5.4          2.3  virginica\n",
       "149           5.9          3.0           5.1          1.8  virginica\n",
       "\n",
       "[150 rows x 5 columns]>"
      ]
     },
     "execution_count": 5,
     "metadata": {},
     "output_type": "execute_result"
    }
   ],
   "source": [
    "import seaborn as sk\n",
    "\n",
    "a= sk.load_dataset(\"iris\")\n",
    "\n",
    "a.shape\n",
    "\n",
    "a.hist"
   ]
  },
  {
   "cell_type": "code",
   "execution_count": 18,
   "metadata": {},
   "outputs": [
    {
     "data": {
      "text/plain": [
       "['C:\\\\Users\\\\HP\\\\Desktop\\\\python projects\\\\group\\\\df_test.csv',\n",
       " 'C:\\\\Users\\\\HP\\\\Desktop\\\\python projects\\\\group\\\\df_train.csv']"
      ]
     },
     "execution_count": 18,
     "metadata": {},
     "output_type": "execute_result"
    }
   ],
   "source": [
    "import glob\n",
    "\n",
    "a = glob.glob(r\"C:\\Users\\HP\\Desktop\\python projects\\group/**.csv\")\n",
    "a"
   ]
  },
  {
   "cell_type": "code",
   "execution_count": 24,
   "metadata": {},
   "outputs": [
    {
     "name": "stdout",
     "output_type": "stream",
     "text": [
      "            date     price  bedrooms  grade  has_basement  living_in_m2  \\\n",
      "0     2014-09-26  305000.0         2      1         False      76.18046   \n",
      "1     2014-05-14  498000.0         3      2          True     210.88981   \n",
      "2     2015-03-23  590000.0         2      4         False     262.91549   \n",
      "3     2014-07-15  775000.0         3      3         False     159.79316   \n",
      "4     2015-04-14  350000.0         2      1         False      92.90300   \n",
      "...          ...       ...       ...    ...           ...           ...   \n",
      "6695  2014-12-11  730000.0         3      3          True     188.59309   \n",
      "6696  2014-06-24  518000.0         3      4         False     234.11556   \n",
      "6697  2014-06-18  264000.0         3      2          True     169.08346   \n",
      "6698  2015-02-02  612125.0         1      2          True     155.14801   \n",
      "6699  2014-10-17  190000.0         2      1         False     117.05778   \n",
      "\n",
      "      renovated  nice_view  perfect_condition  real_bathrooms  has_lavatory  \\\n",
      "0         False      False               True               1         False   \n",
      "1         False      False              False               2          True   \n",
      "2         False      False              False               2          True   \n",
      "3         False      False              False               1          True   \n",
      "4         False      False              False               1          True   \n",
      "...         ...        ...                ...             ...           ...   \n",
      "6695      False      False              False               2          True   \n",
      "6696      False      False              False               2          True   \n",
      "6697      False      False              False               1          True   \n",
      "6698      False      False              False               1          True   \n",
      "6699      False      False              False               1         False   \n",
      "\n",
      "      single_floor  month  quartile_zone  \n",
      "0             True      9              2  \n",
      "1             True      5              2  \n",
      "2            False      3              2  \n",
      "3            False      7              3  \n",
      "4             True      4              3  \n",
      "...            ...    ...            ...  \n",
      "6695         False     12              3  \n",
      "6696         False      6              2  \n",
      "6697          True      6              1  \n",
      "6698          True      2              4  \n",
      "6699          True     10              2  \n",
      "\n",
      "[6700 rows x 14 columns]\n",
      "             date     price  bedrooms  grade  has_basement  living_in_m2  \\\n",
      "0      2014-05-15  312000.0         2      2          True     138.42547   \n",
      "1      2014-11-14  310000.0         2      2         False     105.90942   \n",
      "2      2014-12-24  320000.0         2      2         False     117.98681   \n",
      "3      2015-02-22  264500.0         2      3         False     151.43189   \n",
      "4      2015-01-06  700000.0         3      2          True     341.88304   \n",
      "...           ...       ...       ...    ...           ...           ...   \n",
      "13598  2014-10-07  353950.0         3      3         False     302.86378   \n",
      "13599  2014-08-08  289950.0         2      2         False     155.14801   \n",
      "13600  2014-07-17  625504.0         2      3          True     117.98681   \n",
      "13601  2014-11-26  730000.0         3      5         False     340.02498   \n",
      "13602  2014-08-12  383000.0         3      3         False     220.18011   \n",
      "\n",
      "       renovated  nice_view  perfect_condition  real_bathrooms  has_lavatory  \\\n",
      "0          False      False              False               2          True   \n",
      "1          False      False              False               1          True   \n",
      "2          False       True              False               1         False   \n",
      "3          False      False              False               2          True   \n",
      "4          False      False              False               3         False   \n",
      "...          ...        ...                ...             ...           ...   \n",
      "13598      False      False              False               2          True   \n",
      "13599      False      False              False               2          True   \n",
      "13600      False      False              False               2          True   \n",
      "13601      False      False              False               2          True   \n",
      "13602      False      False              False               2          True   \n",
      "\n",
      "       single_floor  month  quartile_zone  \n",
      "0             False      5              1  \n",
      "1             False     11              3  \n",
      "2              True     12              2  \n",
      "3              True      2              1  \n",
      "4             False      1              4  \n",
      "...             ...    ...            ...  \n",
      "13598         False     10              1  \n",
      "13599         False      8              2  \n",
      "13600         False      7              4  \n",
      "13601         False     11              4  \n",
      "13602         False      8              1  \n",
      "\n",
      "[13603 rows x 14 columns]\n"
     ]
    }
   ],
   "source": [
    "import pandas as pd\n",
    "for i in a:\n",
    "    #print(i)\n",
    "    b = pd.read_csv(i)\n",
    "    print(b)"
   ]
  },
  {
   "cell_type": "markdown",
   "metadata": {},
   "source": [
    "#statics and probability\n",
    "\n"
   ]
  }
 ],
 "metadata": {
  "kernelspec": {
   "display_name": "healthcareproject",
   "language": "python",
   "name": "python3"
  },
  "language_info": {
   "codemirror_mode": {
    "name": "ipython",
    "version": 3
   },
   "file_extension": ".py",
   "mimetype": "text/x-python",
   "name": "python",
   "nbconvert_exporter": "python",
   "pygments_lexer": "ipython3",
   "version": "3.12.3"
  }
 },
 "nbformat": 4,
 "nbformat_minor": 2
}
