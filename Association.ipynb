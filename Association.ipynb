{
 "cells": [
  {
   "cell_type": "code",
   "execution_count": 2,
   "metadata": {},
   "outputs": [
    {
     "name": "stdout",
     "output_type": "stream",
     "text": [
      "Collecting mlxtend\n",
      "  Downloading mlxtend-0.23.3-py3-none-any.whl.metadata (7.3 kB)\n",
      "Requirement already satisfied: scipy>=1.2.1 in c:\\users\\hp\\desktop\\python projects\\healthcareproject\\lib\\site-packages (from mlxtend) (1.14.1)\n",
      "Requirement already satisfied: numpy>=1.16.2 in c:\\users\\hp\\desktop\\python projects\\healthcareproject\\lib\\site-packages (from mlxtend) (2.1.2)\n",
      "Requirement already satisfied: pandas>=0.24.2 in c:\\users\\hp\\desktop\\python projects\\healthcareproject\\lib\\site-packages (from mlxtend) (2.2.3)\n",
      "Requirement already satisfied: scikit-learn>=1.3.1 in c:\\users\\hp\\desktop\\python projects\\healthcareproject\\lib\\site-packages (from mlxtend) (1.5.2)\n",
      "Requirement already satisfied: matplotlib>=3.0.0 in c:\\users\\hp\\desktop\\python projects\\healthcareproject\\lib\\site-packages (from mlxtend) (3.9.2)\n",
      "Requirement already satisfied: joblib>=0.13.2 in c:\\users\\hp\\desktop\\python projects\\healthcareproject\\lib\\site-packages (from mlxtend) (1.4.2)\n",
      "Requirement already satisfied: contourpy>=1.0.1 in c:\\users\\hp\\desktop\\python projects\\healthcareproject\\lib\\site-packages (from matplotlib>=3.0.0->mlxtend) (1.3.0)\n",
      "Requirement already satisfied: cycler>=0.10 in c:\\users\\hp\\desktop\\python projects\\healthcareproject\\lib\\site-packages (from matplotlib>=3.0.0->mlxtend) (0.12.1)\n",
      "Requirement already satisfied: fonttools>=4.22.0 in c:\\users\\hp\\desktop\\python projects\\healthcareproject\\lib\\site-packages (from matplotlib>=3.0.0->mlxtend) (4.54.1)\n",
      "Requirement already satisfied: kiwisolver>=1.3.1 in c:\\users\\hp\\desktop\\python projects\\healthcareproject\\lib\\site-packages (from matplotlib>=3.0.0->mlxtend) (1.4.7)\n",
      "Requirement already satisfied: packaging>=20.0 in c:\\users\\hp\\desktop\\python projects\\healthcareproject\\lib\\site-packages (from matplotlib>=3.0.0->mlxtend) (24.1)\n",
      "Requirement already satisfied: pillow>=8 in c:\\users\\hp\\desktop\\python projects\\healthcareproject\\lib\\site-packages (from matplotlib>=3.0.0->mlxtend) (11.0.0)\n",
      "Requirement already satisfied: pyparsing>=2.3.1 in c:\\users\\hp\\desktop\\python projects\\healthcareproject\\lib\\site-packages (from matplotlib>=3.0.0->mlxtend) (3.2.0)\n",
      "Requirement already satisfied: python-dateutil>=2.7 in c:\\users\\hp\\desktop\\python projects\\healthcareproject\\lib\\site-packages (from matplotlib>=3.0.0->mlxtend) (2.9.0.post0)\n",
      "Requirement already satisfied: pytz>=2020.1 in c:\\users\\hp\\desktop\\python projects\\healthcareproject\\lib\\site-packages (from pandas>=0.24.2->mlxtend) (2024.2)\n",
      "Requirement already satisfied: tzdata>=2022.7 in c:\\users\\hp\\desktop\\python projects\\healthcareproject\\lib\\site-packages (from pandas>=0.24.2->mlxtend) (2024.2)\n",
      "Requirement already satisfied: threadpoolctl>=3.1.0 in c:\\users\\hp\\desktop\\python projects\\healthcareproject\\lib\\site-packages (from scikit-learn>=1.3.1->mlxtend) (3.5.0)\n",
      "Requirement already satisfied: six>=1.5 in c:\\users\\hp\\desktop\\python projects\\healthcareproject\\lib\\site-packages (from python-dateutil>=2.7->matplotlib>=3.0.0->mlxtend) (1.16.0)\n",
      "Downloading mlxtend-0.23.3-py3-none-any.whl (1.4 MB)\n",
      "   ---------------------------------------- 0.0/1.4 MB ? eta -:--:--\n",
      "   ---------------------------------------- 0.0/1.4 MB ? eta -:--:--\n",
      "   ---------------------------------------- 0.0/1.4 MB ? eta -:--:--\n",
      "   ---------------------------------------- 0.0/1.4 MB ? eta -:--:--\n",
      "   - -------------------------------------- 0.1/1.4 MB 1.7 MB/s eta 0:00:01\n",
      "   --------- ------------------------------ 0.3/1.4 MB 4.2 MB/s eta 0:00:01\n",
      "   ---------- ----------------------------- 0.4/1.4 MB 4.6 MB/s eta 0:00:01\n",
      "   ------------- -------------------------- 0.5/1.4 MB 2.6 MB/s eta 0:00:01\n",
      "   ------------------- -------------------- 0.7/1.4 MB 3.0 MB/s eta 0:00:01\n",
      "   ---------------------------------------  1.4/1.4 MB 5.0 MB/s eta 0:00:01\n",
      "   ---------------------------------------- 1.4/1.4 MB 4.8 MB/s eta 0:00:00\n",
      "Installing collected packages: mlxtend\n",
      "Successfully installed mlxtend-0.23.3\n",
      "Note: you may need to restart the kernel to use updated packages.\n"
     ]
    },
    {
     "name": "stderr",
     "output_type": "stream",
     "text": [
      "\n",
      "[notice] A new release of pip is available: 24.0 -> 24.3.1\n",
      "[notice] To update, run: python.exe -m pip install --upgrade pip\n"
     ]
    }
   ],
   "source": [
    "pip install mlxtend"
   ]
  },
  {
   "cell_type": "code",
   "execution_count": 3,
   "metadata": {},
   "outputs": [
    {
     "name": "stdout",
     "output_type": "stream",
     "text": [
      "             Bread  Butter  Milk\n",
      "Transaction                     \n",
      "T1               1       1     0\n",
      "T2               1       1     1\n",
      "T3               0       1     1\n",
      "T4               1       0     1\n",
      "T5               1       1     1\n",
      "   support         itemsets\n",
      "0      0.8          (Bread)\n",
      "1      0.8         (Butter)\n",
      "2      0.8           (Milk)\n",
      "3      0.6  (Bread, Butter)\n",
      "4      0.6    (Milk, Bread)\n",
      "5      0.6   (Milk, Butter)\n",
      "  antecedents consequents  antecedent support  consequent support  support  \\\n",
      "0     (Bread)    (Butter)                 0.8                 0.8      0.6   \n",
      "1    (Butter)     (Bread)                 0.8                 0.8      0.6   \n",
      "2      (Milk)     (Bread)                 0.8                 0.8      0.6   \n",
      "3     (Bread)      (Milk)                 0.8                 0.8      0.6   \n",
      "4      (Milk)    (Butter)                 0.8                 0.8      0.6   \n",
      "5    (Butter)      (Milk)                 0.8                 0.8      0.6   \n",
      "\n",
      "   confidence    lift  representativity  leverage  conviction  zhangs_metric  \\\n",
      "0        0.75  0.9375               1.0     -0.04         0.8          -0.25   \n",
      "1        0.75  0.9375               1.0     -0.04         0.8          -0.25   \n",
      "2        0.75  0.9375               1.0     -0.04         0.8          -0.25   \n",
      "3        0.75  0.9375               1.0     -0.04         0.8          -0.25   \n",
      "4        0.75  0.9375               1.0     -0.04         0.8          -0.25   \n",
      "5        0.75  0.9375               1.0     -0.04         0.8          -0.25   \n",
      "\n",
      "   jaccard  certainty  kulczynski  \n",
      "0      0.6      -0.25        0.75  \n",
      "1      0.6      -0.25        0.75  \n",
      "2      0.6      -0.25        0.75  \n",
      "3      0.6      -0.25        0.75  \n",
      "4      0.6      -0.25        0.75  \n",
      "5      0.6      -0.25        0.75  \n"
     ]
    },
    {
     "name": "stderr",
     "output_type": "stream",
     "text": [
      "c:\\Users\\HP\\Desktop\\python projects\\healthcareproject\\Lib\\site-packages\\mlxtend\\frequent_patterns\\fpcommon.py:161: DeprecationWarning: DataFrames with non-bool types result in worse computationalperformance and their support might be discontinued in the future.Please use a DataFrame with bool type\n",
      "  warnings.warn(\n"
     ]
    }
   ],
   "source": [
    "import pandas as pd\n",
    "from mlxtend.frequent_patterns import apriori,association_rules\n",
    "\n",
    "# Sample dataset\n",
    "data = {'Transaction': ['T1', 'T2', 'T3', 'T4', 'T5'],\n",
    "        'Bread': [1, 1, 0, 1, 1],\n",
    "        'Butter': [1, 1, 1, 0, 1],\n",
    "        'Milk': [0, 1, 1, 1, 1]}\n",
    "\n",
    "df = pd.DataFrame(data).set_index('Transaction')\n",
    "\n",
    "print(df)\n",
    "\n",
    "# Step 1: Generate frequent itemsets\n",
    "frequent_itemsets = apriori(df, min_support=0.6, use_colnames=True)\n",
    "\n",
    "\n",
    "num_itemsets = len(frequent_itemsets)\n",
    "\n",
    "# Step 2: Generate association rules\n",
    "rules = association_rules(frequent_itemsets,num_itemsets, metric=\"lift\", min_threshold=0.7)\n",
    "\n",
    "print(frequent_itemsets)\n",
    "print(rules)\n"
   ]
  }
 ],
 "metadata": {
  "kernelspec": {
   "display_name": "healthcareproject",
   "language": "python",
   "name": "python3"
  },
  "language_info": {
   "codemirror_mode": {
    "name": "ipython",
    "version": 3
   },
   "file_extension": ".py",
   "mimetype": "text/x-python",
   "name": "python",
   "nbconvert_exporter": "python",
   "pygments_lexer": "ipython3",
   "version": "3.12.3"
  }
 },
 "nbformat": 4,
 "nbformat_minor": 2
}
