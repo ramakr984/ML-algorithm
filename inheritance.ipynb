{
 "cells": [
  {
   "cell_type": "code",
   "execution_count": 40,
   "metadata": {},
   "outputs": [
    {
     "name": "stdout",
     "output_type": "stream",
     "text": [
      "(5, 7)\n",
      "(78, 67)\n"
     ]
    }
   ],
   "source": [
    "#single inheritance\n",
    "\n",
    "\"\"\"get the properties from  parent \"\"\"\n",
    "\n",
    "class ramesh:\n",
    "    @staticmethod\n",
    "    def name(x,y):\n",
    "         return x,y\n",
    "    @staticmethod\n",
    "    def ravi(a,b):\n",
    "        return a,b\n",
    "\n",
    "class open(ramesh):\n",
    "    @staticmethod\n",
    "    def krishna(n,m):\n",
    "        return n,m\n",
    "    @staticmethod\n",
    "    def rajesh(j,l):\n",
    "        return j,l\n",
    "\n",
    "c=open()\n",
    "c.krishna(7,5)\n",
    "c.ravi(3,87)\n",
    "print(c.name(5,7))\n",
    "print(c.rajesh(78,67))\n",
    "\n",
    "\n",
    "\n"
   ]
  },
  {
   "cell_type": "code",
   "execution_count": 41,
   "metadata": {},
   "outputs": [
    {
     "name": "stdout",
     "output_type": "stream",
     "text": [
      "bandalapati\n",
      "bandalapati\n",
      "ramakrishna\n",
      "['__class__', '__delattr__', '__dict__', '__dir__', '__doc__', '__eq__', '__format__', '__ge__', '__getattribute__', '__getstate__', '__gt__', '__hash__', '__init__', '__init_subclass__', '__le__', '__lt__', '__module__', '__ne__', '__new__', '__reduce__', '__reduce_ex__', '__repr__', '__setattr__', '__sizeof__', '__str__', '__subclasshook__', '__weakref__', 'hyy', 'name1', 'name2']\n"
     ]
    }
   ],
   "source": [
    "#multiple inheritance\n",
    "\n",
    "\"\"\"father,mother, child relation ship is called multilpe inheritance\"\"\"\n",
    "\n",
    "class father:\n",
    "    @staticmethod\n",
    "    def name1(self):\n",
    "        y=\"bandalapati\"\n",
    "        print(y)\n",
    "\n",
    "\n",
    "class mother:\n",
    "    @staticmethod\n",
    "    def name2(x):\n",
    "        x=\"ramakrishna\"\n",
    "        print(x)\n",
    "\n",
    "\n",
    "class hello(father,mother):\n",
    "    @staticmethod\n",
    "    def hyy(z):\n",
    "        z=\"bandalapati\"\n",
    "        print(z)\n",
    "    \n",
    "\n",
    "h=hello()\n",
    "h.hyy(3)\n",
    "h.name1(56)\n",
    "h.name2(75)\n",
    "\n",
    "print(dir(h))"
   ]
  },
  {
   "cell_type": "code",
   "execution_count": 42,
   "metadata": {},
   "outputs": [
    {
     "name": "stdout",
     "output_type": "stream",
     "text": [
      "(56, 78)\n"
     ]
    }
   ],
   "source": [
    "#acess specifiers\n",
    "\n",
    "class honey():\n",
    "\n",
    "    \n",
    "    def ramakrishna(self,a,b):\n",
    "        #private \n",
    "        self._a=a\n",
    "        self._b=b\n",
    "        return a,b\n",
    "    def get_values(self):\n",
    "        return self._a,self._b\n",
    "    \n",
    "    \n",
    "\n",
    "    \n",
    "v=honey()\n",
    "v.ramakrishna(56,78) \n",
    "print(v.get_values())\n",
    "\n",
    "\n",
    "#mongling\n",
    "        \n",
    "    "
   ]
  },
  {
   "cell_type": "code",
   "execution_count": 43,
   "metadata": {},
   "outputs": [
    {
     "ename": "AttributeError",
     "evalue": "'Employee' object has no attribute 'na'",
     "output_type": "error",
     "traceback": [
      "\u001b[1;31m---------------------------------------------------------------------------\u001b[0m",
      "\u001b[1;31mAttributeError\u001b[0m                            Traceback (most recent call last)",
      "Cell \u001b[1;32mIn[43], line 14\u001b[0m\n\u001b[0;32m     12\u001b[0m c1\u001b[38;5;241m=\u001b[39mEmployee(\u001b[38;5;124m\"\u001b[39m\u001b[38;5;124mhelp\u001b[39m\u001b[38;5;124m\"\u001b[39m,\u001b[38;5;124m\"\u001b[39m\u001b[38;5;124mgoogle\u001b[39m\u001b[38;5;124m\"\u001b[39m)\n\u001b[0;32m     13\u001b[0m c1\u001b[38;5;241m.\u001b[39mwhy(\u001b[38;5;124m\"\u001b[39m\u001b[38;5;124mramakrishna\u001b[39m\u001b[38;5;124m\"\u001b[39m)\n\u001b[1;32m---> 14\u001b[0m \u001b[43mc1\u001b[49m\u001b[38;5;241;43m.\u001b[39;49m\u001b[43mna\u001b[49m\n",
      "\u001b[1;31mAttributeError\u001b[0m: 'Employee' object has no attribute 'na'"
     ]
    }
   ],
   "source": [
    "class Employee:\n",
    " def __init__(self,na,hello):\n",
    "    self._na=na #procted\n",
    "    self.__hello=hello\n",
    "     # private\n",
    "    \n",
    " def why(self,name):\n",
    "     self.name=name #public \n",
    "     return name\n",
    "     \n",
    "\n",
    "c1=Employee(\"help\",\"google\")\n",
    "c1.why(\"ramakrishna\")\n",
    "c1.na\n",
    "\n"
   ]
  },
  {
   "cell_type": "code",
   "execution_count": 35,
   "metadata": {},
   "outputs": [
    {
     "ename": "AttributeError",
     "evalue": "'employee' object has no attribute 'na'",
     "output_type": "error",
     "traceback": [
      "\u001b[1;31m---------------------------------------------------------------------------\u001b[0m",
      "\u001b[1;31mAttributeError\u001b[0m                            Traceback (most recent call last)",
      "Cell \u001b[1;32mIn[35], line 12\u001b[0m\n\u001b[0;32m     10\u001b[0m c1\u001b[38;5;241m=\u001b[39memployee(\u001b[38;5;124m\"\u001b[39m\u001b[38;5;124mssss\u001b[39m\u001b[38;5;124m\"\u001b[39m,\u001b[38;5;241m2\u001b[39m)\n\u001b[0;32m     11\u001b[0m c1\u001b[38;5;241m.\u001b[39mwhy(\u001b[38;5;124m\"\u001b[39m\u001b[38;5;124msai\u001b[39m\u001b[38;5;124m\"\u001b[39m)\n\u001b[1;32m---> 12\u001b[0m \u001b[43mc1\u001b[49m\u001b[38;5;241;43m.\u001b[39;49m\u001b[43mna\u001b[49m\n",
      "\u001b[1;31mAttributeError\u001b[0m: 'employee' object has no attribute 'na'"
     ]
    }
   ],
   "source": [
    "class employee:\n",
    "    def __init__(self,na,rollno):\n",
    "        self._na=na\n",
    "        self.rollno=rollno\n",
    "        \n",
    "    def why(self,name):\n",
    "        self.name=name\n",
    "        return name\n",
    "\n",
    "c1=employee(\"ssss\",2)\n",
    "c1.why(\"sai\")\n",
    "c1.na"
   ]
  },
  {
   "cell_type": "code",
   "execution_count": 27,
   "metadata": {},
   "outputs": [],
   "source": [
    "class employee:\n",
    "    def __init__(self,qqq):\n",
    "        self.qqq=\"sai\"\n",
    "        \n",
    "    \n",
    "\n",
    "c1=employee(\"saaaaaa\")\n",
    "\n"
   ]
  },
  {
   "cell_type": "code",
   "execution_count": null,
   "metadata": {},
   "outputs": [],
   "source": []
  },
  {
   "cell_type": "markdown",
   "metadata": {},
   "source": []
  },
  {
   "cell_type": "markdown",
   "metadata": {},
   "source": [
    "class employee:\n",
    "    def __init__(self,name,rollno):\n",
    "        self.name=\"name\"\n",
    "        self.rollno=\"rollno\"\n",
    "    def why(self,name):\n",
    "        self.name=name\n",
    "\n",
    "c1=employee(\"a\",\"b\")\n",
    "c1.why(\"sai\")"
   ]
  },
  {
   "cell_type": "code",
   "execution_count": null,
   "metadata": {},
   "outputs": [],
   "source": [
    "#super key word we can acess from child to parent fucntion using super keyword\n",
    "\n",
    "\n",
    "\n",
    "\n",
    "class ramakrishna:\n",
    "\n",
    "    \n",
    "    def hero(self):\n",
    "        print(\"this is first class\")\n",
    "    \n",
    "\n",
    "class bandalapati(ramakrishna):\n",
    "\n",
    "    \n",
    "    def bye(self):\n",
    "        print(\"this is second class\")\n",
    "        super().hero()\n",
    "      \n",
    "    \n",
    "    def team(self):\n",
    "        print(\"this is third method\")\n",
    "        \n",
    "    \n",
    "c=bandalapati()\n",
    "c.bye()\n",
    "c.team()\n",
    "\n",
    "\n",
    "\n",
    "\n",
    "\n"
   ]
  },
  {
   "cell_type": "code",
   "execution_count": null,
   "metadata": {},
   "outputs": [],
   "source": [
    "class Parent:\n",
    "  def __init__(self, txt):\n",
    "    self.message = txt\n",
    "\n",
    "  def printmessage(self):\n",
    "    print(self.message)\n",
    "\n",
    "class Child(Parent):\n",
    "  def __init__(self, txt):\n",
    "    super().__init__(txt)   #super keywoard\n",
    "\n",
    "x = Child(\"Hello, and welcome!\")\n",
    "\n",
    "x.printmessage()"
   ]
  },
  {
   "cell_type": "code",
   "execution_count": 4,
   "metadata": {},
   "outputs": [],
   "source": [
    "#abstract method\n",
    "\n",
    "from abc import ABC, abstractmethod\n",
    "\n",
    "class ramesh(ABC):\n",
    "    @abstractmethod\n",
    "    def rama(self):\n",
    "        pass\n",
    "\n",
    "    @abstractmethod\n",
    "    def krishna(self):\n",
    "        pass\n",
    "    @abstractmethod\n",
    "    def helloteam(self):\n",
    "        pass\n",
    "    \n",
    "class Rakesh(ramesh):\n",
    "    def bandalapati(self,m):\n",
    "        self.__m=m  #procted\n",
    "        \n",
    "    def krishna(self,z):\n",
    "        self._z = z\n",
    "        \n",
    "    def rama(self,a):\n",
    "        self.a=a;\n",
    "        \n",
    "    def helloteam(self):\n",
    "        pass\n",
    "        \n",
    "    \n",
    "        \n",
    "c=Rakesh()\n",
    "c.krishna(67)\n",
    "c.bandalapati(89)\n",
    "c.rama(56)\n",
    "        \n",
    "       "
   ]
  },
  {
   "cell_type": "code",
   "execution_count": null,
   "metadata": {},
   "outputs": [],
   "source": [
    "from abc import ABC, abstractmethod\n",
    "\n",
    "# Define an abstract class with abstract methods\n",
    "class Ramesh(ABC):\n",
    "    @abstractmethod\n",
    "    def rama(self, a):\n",
    "        pass\n",
    "\n",
    "    @abstractmethod\n",
    "    def krishna(self, z):\n",
    "        pass\n",
    "\n",
    "    @abstractmethod\n",
    "    def helloteam(self):\n",
    "        pass\n",
    "\n",
    "# Define a subclass of Ramesh and implement the abstract methods\n",
    "class Rakesh(Ramesh):\n",
    "    def bandalapati(self, m):\n",
    "        self.m = m\n",
    "        print(f\"Bandalapati: {self.m}\")\n",
    "    \n",
    "    def krishna(self, z):\n",
    "        self.z = z\n",
    "        print(f\"Krishna: {self.z}\")\n",
    "    \n",
    "    def rama(self, a):\n",
    "        self.a = a\n",
    "        print(f\"Rama: {self.a}\")\n",
    "    \n",
    "    # You need to implement helloteam method because it's abstract\n",
    "    def helloteam(self):\n",
    "        print(\"Hello Team!\")\n",
    "\n",
    "# Instantiate the subclass\n",
    "c = Rakesh()\n",
    "\n",
    "# Uncomment the following lines to call the methods\n",
    "c.krishna(67)\n",
    "c.bandalapati(89)\n",
    "c.rama(56)\n",
    "c.helloteam()\n"
   ]
  },
  {
   "cell_type": "code",
   "execution_count": 2,
   "metadata": {},
   "outputs": [
    {
     "data": {
      "text/plain": [
       "(10, 20)"
      ]
     },
     "execution_count": 2,
     "metadata": {},
     "output_type": "execute_result"
    }
   ],
   "source": [
    "\n",
    "#opeartor overloading in python\n",
    "\n",
    "class hello:\n",
    "    def krishna(self,a,b):\n",
    "        self.a=a\n",
    "        self.b=b\n",
    "        \n",
    "    def krishna(self,a,b):\n",
    "        return  a,b\n",
    "c=hello()\n",
    "c.krishna(10,20)\n",
    "\n",
    "\n"
   ]
  },
  {
   "cell_type": "code",
   "execution_count": 1,
   "metadata": {},
   "outputs": [
    {
     "data": {
      "text/plain": [
       "(10, 20)"
      ]
     },
     "execution_count": 1,
     "metadata": {},
     "output_type": "execute_result"
    }
   ],
   "source": [
    "class hello:\n",
    "    def krishna(self,a,b):\n",
    "        self.a=a\n",
    "        self.b=b\n",
    "        \n",
    "    def krishna(self,a,b):\n",
    "        return a,b\n",
    "c=hello()\n",
    "c.krishna(10,20)"
   ]
  },
  {
   "cell_type": "markdown",
   "metadata": {},
   "source": [
    "# operator over loading\n",
    "\n",
    "class hello:\n",
    "\n",
    "   def __init__(self,a):\n",
    "      self.a=a\n",
    "      \n",
    "\n",
    "   def __add__(self,b):\n",
    "      self.b=b\n",
    "      self=a+b\n",
    "      \n",
    "hello(34)\n",
    "hello.__add__(7)"
   ]
  },
  {
   "cell_type": "code",
   "execution_count": 83,
   "metadata": {},
   "outputs": [
    {
     "name": "stdout",
     "output_type": "stream",
     "text": [
      "-60\n"
     ]
    }
   ],
   "source": [
    "# operator over loading\n",
    "\n",
    "class hello:\n",
    "\n",
    "   def __init__(self,a):\n",
    "      self.a=a\n",
    "      \n",
    "\n",
    "   def __mul__(self,z):\n",
    "      self.c=self.a * z.a\n",
    "      return c\n",
    "      \n",
    "      \n",
    "o=hello(10)\n",
    "o1=hello(10)\n",
    "c=o*o1\n",
    "print(c)\n",
    "\n"
   ]
  },
  {
   "cell_type": "markdown",
   "metadata": {},
   "source": []
  },
  {
   "cell_type": "code",
   "execution_count": 16,
   "metadata": {},
   "outputs": [
    {
     "name": "stdout",
     "output_type": "stream",
     "text": [
      "100\n"
     ]
    }
   ],
   "source": [
    "class hello:\n",
    "\n",
    "   def __init__(self,a):\n",
    "      self.a=a\n",
    "      \n",
    "\n",
    "   def __mul__(self,z):\n",
    "      self.c=self.a * z.a\n",
    "      return self.c\n",
    "      \n",
    "      \n",
    "o=hello(10)\n",
    "o1=hello(10)\n",
    "c=o*o1\n",
    "print(c)"
   ]
  },
  {
   "cell_type": "code",
   "execution_count": 10,
   "metadata": {},
   "outputs": [],
   "source": [
    "class hello:\n",
    "\n",
    "    def hi(self):\n",
    "        print(id(self))\n",
    "        return self"
   ]
  },
  {
   "cell_type": "code",
   "execution_count": 11,
   "metadata": {},
   "outputs": [
    {
     "name": "stdout",
     "output_type": "stream",
     "text": [
      "1934692798672\n"
     ]
    }
   ],
   "source": [
    "ob = hello()\n",
    "se = ob.hi()"
   ]
  },
  {
   "cell_type": "code",
   "execution_count": 12,
   "metadata": {},
   "outputs": [
    {
     "data": {
      "text/plain": [
       "1934673366416"
      ]
     },
     "execution_count": 12,
     "metadata": {},
     "output_type": "execute_result"
    }
   ],
   "source": [
    "id(hello)"
   ]
  },
  {
   "cell_type": "code",
   "execution_count": 13,
   "metadata": {},
   "outputs": [
    {
     "data": {
      "text/plain": [
       "1934692798672"
      ]
     },
     "execution_count": 13,
     "metadata": {},
     "output_type": "execute_result"
    }
   ],
   "source": [
    "id(ob)"
   ]
  },
  {
   "cell_type": "code",
   "execution_count": 14,
   "metadata": {},
   "outputs": [
    {
     "data": {
      "text/plain": [
       "1934692798672"
      ]
     },
     "execution_count": 14,
     "metadata": {},
     "output_type": "execute_result"
    }
   ],
   "source": [
    "id(se)"
   ]
  },
  {
   "cell_type": "code",
   "execution_count": 10,
   "metadata": {},
   "outputs": [
    {
     "name": "stdout",
     "output_type": "stream",
     "text": [
      "-1\n"
     ]
    }
   ],
   "source": [
    "class hello:\n",
    "\n",
    "   def __init__(self,h):\n",
    "      self.h=h\n",
    "      \n",
    "\n",
    "   def __sub__(self,d):\n",
    "      self.d=self.h - d.h\n",
    "      return self.d\n",
    "   \n",
    "v=hello(10)\n",
    "l=hello(11)\n",
    "c=v-l\n",
    "print(c)\n"
   ]
  },
  {
   "cell_type": "code",
   "execution_count": 13,
   "metadata": {},
   "outputs": [
    {
     "name": "stdout",
     "output_type": "stream",
     "text": [
      "Person(name=John, age=30)\n"
     ]
    }
   ],
   "source": [
    "import pickle\n",
    "\n",
    "# Define a custom class\n",
    "class Person:\n",
    "    def __init__(self, name, age):\n",
    "        self.name = name\n",
    "        self.age = age\n",
    "\n",
    "    def __repr__(self):\n",
    "        return f\"Person(name={self.name}, age={self.age})\"\n",
    "\n",
    "# Create an object of Person\n",
    "person = Person(\"John\", 30)\n",
    "\n",
    "# Serialize the custom object\n",
    "with open(\"ramakrishna.pkl\", \"wb\") as file:\n",
    "    pickle.dump(person, file)\n",
    "\n",
    "# Deserialize the object\n",
    "with open(\"ramakrishna.pkl\", \"rb\") as file:\n",
    "    loaded_person = pickle.load(file)\n",
    "\n",
    "print(loaded_person)\n"
   ]
  },
  {
   "cell_type": "code",
   "execution_count": 1,
   "metadata": {},
   "outputs": [
    {
     "ename": "SyntaxError",
     "evalue": "invalid syntax (2487058473.py, line 1)",
     "output_type": "error",
     "traceback": [
      "\u001b[1;36m  Cell \u001b[1;32mIn[1], line 1\u001b[1;36m\u001b[0m\n\u001b[1;33m    file= open(\"hell.pkl\" \"wb\") as file:\u001b[0m\n\u001b[1;37m                                ^\u001b[0m\n\u001b[1;31mSyntaxError\u001b[0m\u001b[1;31m:\u001b[0m invalid syntax\n"
     ]
    }
   ],
   "source": [
    "file= open(\"hell.pkl\" \"wb\") as file:\n",
    " pickle.dump(hell ,file)"
   ]
  },
  {
   "cell_type": "code",
   "execution_count": 7,
   "metadata": {},
   "outputs": [
    {
     "ename": "FileExistsError",
     "evalue": "[Errno 17] File exists: 'exampled.txt'",
     "output_type": "error",
     "traceback": [
      "\u001b[1;31m---------------------------------------------------------------------------\u001b[0m",
      "\u001b[1;31mFileExistsError\u001b[0m                           Traceback (most recent call last)",
      "Cell \u001b[1;32mIn[7], line 1\u001b[0m\n\u001b[1;32m----> 1\u001b[0m file \u001b[38;5;241m=\u001b[39m \u001b[38;5;28;43mopen\u001b[39;49m\u001b[43m(\u001b[49m\u001b[38;5;124;43m\"\u001b[39;49m\u001b[38;5;124;43mexampled.txt\u001b[39;49m\u001b[38;5;124;43m\"\u001b[39;49m\u001b[43m,\u001b[49m\u001b[43m \u001b[49m\u001b[38;5;124;43m\"\u001b[39;49m\u001b[38;5;124;43mx\u001b[39;49m\u001b[38;5;124;43m\"\u001b[39;49m\u001b[43m)\u001b[49m\n\u001b[0;32m      2\u001b[0m file\u001b[38;5;241m.\u001b[39mclose()\n",
      "File \u001b[1;32m~\\AppData\\Roaming\\Python\\Python312\\site-packages\\IPython\\core\\interactiveshell.py:324\u001b[0m, in \u001b[0;36m_modified_open\u001b[1;34m(file, *args, **kwargs)\u001b[0m\n\u001b[0;32m    317\u001b[0m \u001b[38;5;28;01mif\u001b[39;00m file \u001b[38;5;129;01min\u001b[39;00m {\u001b[38;5;241m0\u001b[39m, \u001b[38;5;241m1\u001b[39m, \u001b[38;5;241m2\u001b[39m}:\n\u001b[0;32m    318\u001b[0m     \u001b[38;5;28;01mraise\u001b[39;00m \u001b[38;5;167;01mValueError\u001b[39;00m(\n\u001b[0;32m    319\u001b[0m         \u001b[38;5;124mf\u001b[39m\u001b[38;5;124m\"\u001b[39m\u001b[38;5;124mIPython won\u001b[39m\u001b[38;5;124m'\u001b[39m\u001b[38;5;124mt let you open fd=\u001b[39m\u001b[38;5;132;01m{\u001b[39;00mfile\u001b[38;5;132;01m}\u001b[39;00m\u001b[38;5;124m by default \u001b[39m\u001b[38;5;124m\"\u001b[39m\n\u001b[0;32m    320\u001b[0m         \u001b[38;5;124m\"\u001b[39m\u001b[38;5;124mas it is likely to crash IPython. If you know what you are doing, \u001b[39m\u001b[38;5;124m\"\u001b[39m\n\u001b[0;32m    321\u001b[0m         \u001b[38;5;124m\"\u001b[39m\u001b[38;5;124myou can use builtins\u001b[39m\u001b[38;5;124m'\u001b[39m\u001b[38;5;124m open.\u001b[39m\u001b[38;5;124m\"\u001b[39m\n\u001b[0;32m    322\u001b[0m     )\n\u001b[1;32m--> 324\u001b[0m \u001b[38;5;28;01mreturn\u001b[39;00m \u001b[43mio_open\u001b[49m\u001b[43m(\u001b[49m\u001b[43mfile\u001b[49m\u001b[43m,\u001b[49m\u001b[43m \u001b[49m\u001b[38;5;241;43m*\u001b[39;49m\u001b[43margs\u001b[49m\u001b[43m,\u001b[49m\u001b[43m \u001b[49m\u001b[38;5;241;43m*\u001b[39;49m\u001b[38;5;241;43m*\u001b[39;49m\u001b[43mkwargs\u001b[49m\u001b[43m)\u001b[49m\n",
      "\u001b[1;31mFileExistsError\u001b[0m: [Errno 17] File exists: 'exampled.txt'"
     ]
    }
   ],
   "source": [
    "file = open(\"exampled.txt\", \"x\")\n",
    "file.close()\n"
   ]
  },
  {
   "cell_type": "code",
   "execution_count": 9,
   "metadata": {},
   "outputs": [
    {
     "ename": "FileExistsError",
     "evalue": "[Errno 17] File exists: 'new_image.jpg'",
     "output_type": "error",
     "traceback": [
      "\u001b[1;31m---------------------------------------------------------------------------\u001b[0m",
      "\u001b[1;31mFileExistsError\u001b[0m                           Traceback (most recent call last)",
      "Cell \u001b[1;32mIn[9], line 1\u001b[0m\n\u001b[1;32m----> 1\u001b[0m \u001b[38;5;28;01mwith\u001b[39;00m \u001b[38;5;28;43mopen\u001b[39;49m\u001b[43m(\u001b[49m\u001b[38;5;124;43m\"\u001b[39;49m\u001b[38;5;124;43mnew_image.jpg\u001b[39;49m\u001b[38;5;124;43m\"\u001b[39;49m\u001b[43m,\u001b[49m\u001b[43m \u001b[49m\u001b[38;5;124;43m\"\u001b[39;49m\u001b[38;5;124;43mx\u001b[39;49m\u001b[38;5;124;43m\"\u001b[39;49m\u001b[43m)\u001b[49m \u001b[38;5;28;01mas\u001b[39;00m file:\n\u001b[0;32m      2\u001b[0m     file\u001b[38;5;241m.\u001b[39mwrite(binary_data)\n",
      "File \u001b[1;32m~\\AppData\\Roaming\\Python\\Python312\\site-packages\\IPython\\core\\interactiveshell.py:324\u001b[0m, in \u001b[0;36m_modified_open\u001b[1;34m(file, *args, **kwargs)\u001b[0m\n\u001b[0;32m    317\u001b[0m \u001b[38;5;28;01mif\u001b[39;00m file \u001b[38;5;129;01min\u001b[39;00m {\u001b[38;5;241m0\u001b[39m, \u001b[38;5;241m1\u001b[39m, \u001b[38;5;241m2\u001b[39m}:\n\u001b[0;32m    318\u001b[0m     \u001b[38;5;28;01mraise\u001b[39;00m \u001b[38;5;167;01mValueError\u001b[39;00m(\n\u001b[0;32m    319\u001b[0m         \u001b[38;5;124mf\u001b[39m\u001b[38;5;124m\"\u001b[39m\u001b[38;5;124mIPython won\u001b[39m\u001b[38;5;124m'\u001b[39m\u001b[38;5;124mt let you open fd=\u001b[39m\u001b[38;5;132;01m{\u001b[39;00mfile\u001b[38;5;132;01m}\u001b[39;00m\u001b[38;5;124m by default \u001b[39m\u001b[38;5;124m\"\u001b[39m\n\u001b[0;32m    320\u001b[0m         \u001b[38;5;124m\"\u001b[39m\u001b[38;5;124mas it is likely to crash IPython. If you know what you are doing, \u001b[39m\u001b[38;5;124m\"\u001b[39m\n\u001b[0;32m    321\u001b[0m         \u001b[38;5;124m\"\u001b[39m\u001b[38;5;124myou can use builtins\u001b[39m\u001b[38;5;124m'\u001b[39m\u001b[38;5;124m open.\u001b[39m\u001b[38;5;124m\"\u001b[39m\n\u001b[0;32m    322\u001b[0m     )\n\u001b[1;32m--> 324\u001b[0m \u001b[38;5;28;01mreturn\u001b[39;00m \u001b[43mio_open\u001b[49m\u001b[43m(\u001b[49m\u001b[43mfile\u001b[49m\u001b[43m,\u001b[49m\u001b[43m \u001b[49m\u001b[38;5;241;43m*\u001b[39;49m\u001b[43margs\u001b[49m\u001b[43m,\u001b[49m\u001b[43m \u001b[49m\u001b[38;5;241;43m*\u001b[39;49m\u001b[38;5;241;43m*\u001b[39;49m\u001b[43mkwargs\u001b[49m\u001b[43m)\u001b[49m\n",
      "\u001b[1;31mFileExistsError\u001b[0m: [Errno 17] File exists: 'new_image.jpg'"
     ]
    }
   ],
   "source": [
    "with open(\"new_image.jpg\", \"x\") as file:\n",
    "    file.write(binary_data)\n"
   ]
  },
  {
   "cell_type": "code",
   "execution_count": 45,
   "metadata": {},
   "outputs": [
    {
     "ename": "SyntaxError",
     "evalue": "incomplete input (455637302.py, line 2)",
     "output_type": "error",
     "traceback": [
      "\u001b[1;36m  Cell \u001b[1;32mIn[45], line 2\u001b[1;36m\u001b[0m\n\u001b[1;33m    \u001b[0m\n\u001b[1;37m    ^\u001b[0m\n\u001b[1;31mSyntaxError\u001b[0m\u001b[1;31m:\u001b[0m incomplete input\n"
     ]
    }
   ],
   "source": [
    "with open(\"bandalapati.txt\" \"a\") as file:\n",
    "    "
   ]
  },
  {
   "cell_type": "code",
   "execution_count": 12,
   "metadata": {},
   "outputs": [
    {
     "ename": "IndentationError",
     "evalue": "unexpected indent (2285407589.py, line 2)",
     "output_type": "error",
     "traceback": [
      "\u001b[1;36m  Cell \u001b[1;32mIn[12], line 2\u001b[1;36m\u001b[0m\n\u001b[1;33m    import os ; os.getcwd()\u001b[0m\n\u001b[1;37m    ^\u001b[0m\n\u001b[1;31mIndentationError\u001b[0m\u001b[1;31m:\u001b[0m unexpected indent\n"
     ]
    }
   ],
   "source": [
    "# with absolute path to file \n",
    " import os ; os.getcwd()  \n",
    "full_path=os.path.join(os.getcwd(),dir_name,file_name)\n",
    "with open(full_path,\"wb\") as file:\n",
    " file.write(binary_data)\n"
   ]
  },
  {
   "cell_type": "code",
   "execution_count": 22,
   "metadata": {},
   "outputs": [
    {
     "ename": "FileExistsError",
     "evalue": "[Errno 17] File exists: 'ramakrishna.execel'",
     "output_type": "error",
     "traceback": [
      "\u001b[1;31m---------------------------------------------------------------------------\u001b[0m",
      "\u001b[1;31mFileExistsError\u001b[0m                           Traceback (most recent call last)",
      "Cell \u001b[1;32mIn[22], line 1\u001b[0m\n\u001b[1;32m----> 1\u001b[0m file\u001b[38;5;241m=\u001b[39m\u001b[38;5;28;43mopen\u001b[39;49m\u001b[43m(\u001b[49m\u001b[38;5;124;43m\"\u001b[39;49m\u001b[38;5;124;43mramakrishna.execel\u001b[39;49m\u001b[38;5;124;43m\"\u001b[39;49m\u001b[43m,\u001b[49m\u001b[43m \u001b[49m\u001b[38;5;124;43m\"\u001b[39;49m\u001b[38;5;124;43mx\u001b[39;49m\u001b[38;5;124;43m\"\u001b[39;49m\u001b[43m)\u001b[49m\n\u001b[0;32m      2\u001b[0m file\u001b[38;5;241m.\u001b[39mwrite(\u001b[38;5;124m\"\u001b[39m\u001b[38;5;124mthis is the first class iam creating\u001b[39m\u001b[38;5;124m\"\u001b[39m)\n\u001b[0;32m      4\u001b[0m file\u001b[38;5;241m.\u001b[39mclose()\n",
      "File \u001b[1;32m~\\AppData\\Roaming\\Python\\Python312\\site-packages\\IPython\\core\\interactiveshell.py:324\u001b[0m, in \u001b[0;36m_modified_open\u001b[1;34m(file, *args, **kwargs)\u001b[0m\n\u001b[0;32m    317\u001b[0m \u001b[38;5;28;01mif\u001b[39;00m file \u001b[38;5;129;01min\u001b[39;00m {\u001b[38;5;241m0\u001b[39m, \u001b[38;5;241m1\u001b[39m, \u001b[38;5;241m2\u001b[39m}:\n\u001b[0;32m    318\u001b[0m     \u001b[38;5;28;01mraise\u001b[39;00m \u001b[38;5;167;01mValueError\u001b[39;00m(\n\u001b[0;32m    319\u001b[0m         \u001b[38;5;124mf\u001b[39m\u001b[38;5;124m\"\u001b[39m\u001b[38;5;124mIPython won\u001b[39m\u001b[38;5;124m'\u001b[39m\u001b[38;5;124mt let you open fd=\u001b[39m\u001b[38;5;132;01m{\u001b[39;00mfile\u001b[38;5;132;01m}\u001b[39;00m\u001b[38;5;124m by default \u001b[39m\u001b[38;5;124m\"\u001b[39m\n\u001b[0;32m    320\u001b[0m         \u001b[38;5;124m\"\u001b[39m\u001b[38;5;124mas it is likely to crash IPython. If you know what you are doing, \u001b[39m\u001b[38;5;124m\"\u001b[39m\n\u001b[0;32m    321\u001b[0m         \u001b[38;5;124m\"\u001b[39m\u001b[38;5;124myou can use builtins\u001b[39m\u001b[38;5;124m'\u001b[39m\u001b[38;5;124m open.\u001b[39m\u001b[38;5;124m\"\u001b[39m\n\u001b[0;32m    322\u001b[0m     )\n\u001b[1;32m--> 324\u001b[0m \u001b[38;5;28;01mreturn\u001b[39;00m \u001b[43mio_open\u001b[49m\u001b[43m(\u001b[49m\u001b[43mfile\u001b[49m\u001b[43m,\u001b[49m\u001b[43m \u001b[49m\u001b[38;5;241;43m*\u001b[39;49m\u001b[43margs\u001b[49m\u001b[43m,\u001b[49m\u001b[43m \u001b[49m\u001b[38;5;241;43m*\u001b[39;49m\u001b[38;5;241;43m*\u001b[39;49m\u001b[43mkwargs\u001b[49m\u001b[43m)\u001b[49m\n",
      "\u001b[1;31mFileExistsError\u001b[0m: [Errno 17] File exists: 'ramakrishna.execel'"
     ]
    }
   ],
   "source": [
    "file=open(\"ramakrishna.execel\", \"x\")\n",
    "file.write(\"this is the first class iam creating\")\n",
    "\n",
    "file.close()\n",
    "\n"
   ]
  },
  {
   "cell_type": "code",
   "execution_count": 44,
   "metadata": {},
   "outputs": [],
   "source": [
    "with open(\"helloworld\",\"a\") as file:\n",
    "  file.write(\"this is the first course\")\n",
    "  \n",
    "    \n"
   ]
  },
  {
   "cell_type": "code",
   "execution_count": 32,
   "metadata": {},
   "outputs": [
    {
     "ename": "AttributeError",
     "evalue": "'_io.TextIOWrapper' object has no attribute 'remove'",
     "output_type": "error",
     "traceback": [
      "\u001b[1;31m---------------------------------------------------------------------------\u001b[0m",
      "\u001b[1;31mAttributeError\u001b[0m                            Traceback (most recent call last)",
      "Cell \u001b[1;32mIn[32], line 5\u001b[0m\n\u001b[0;32m      3\u001b[0m file\u001b[38;5;241m.\u001b[39mwrite(\u001b[38;5;124m\"\u001b[39m\u001b[38;5;124mPython is great!\u001b[39m\u001b[38;5;130;01m\\n\u001b[39;00m\u001b[38;5;124m\"\u001b[39m)\n\u001b[0;32m      4\u001b[0m file\u001b[38;5;241m.\u001b[39mwrite(\u001b[38;5;124m\"\u001b[39m\u001b[38;5;124mFile handling in Python is simple.\u001b[39m\u001b[38;5;124m\"\u001b[39m)\n\u001b[1;32m----> 5\u001b[0m \u001b[43mfile\u001b[49m\u001b[38;5;241;43m.\u001b[39;49m\u001b[43mremove\u001b[49m()\n",
      "\u001b[1;31mAttributeError\u001b[0m: '_io.TextIOWrapper' object has no attribute 'remove'"
     ]
    }
   ],
   "source": [
    "# Writing to a file with Context manager\n",
    "with open(\"data.txt\", \"w\") as file:\n",
    "    file.write(\"Python is great!\\n\")\n",
    "    file.write(\"File handling in Python is simple.\")\n",
    "    \n"
   ]
  },
  {
   "cell_type": "code",
   "execution_count": 40,
   "metadata": {},
   "outputs": [
    {
     "ename": "UnsupportedOperation",
     "evalue": "not writable",
     "output_type": "error",
     "traceback": [
      "\u001b[1;31m---------------------------------------------------------------------------\u001b[0m",
      "\u001b[1;31mUnsupportedOperation\u001b[0m                      Traceback (most recent call last)",
      "Cell \u001b[1;32mIn[40], line 3\u001b[0m\n\u001b[0;32m      1\u001b[0m \u001b[38;5;28;01mwith\u001b[39;00m \u001b[38;5;28mopen\u001b[39m(\u001b[38;5;124m\"\u001b[39m\u001b[38;5;124mramakrishna.execel\u001b[39m\u001b[38;5;124m\"\u001b[39m, \u001b[38;5;124m\"\u001b[39m\u001b[38;5;124mr\u001b[39m\u001b[38;5;124m\"\u001b[39m) \u001b[38;5;28;01mas\u001b[39;00m file:\n\u001b[0;32m      2\u001b[0m     content \u001b[38;5;241m=\u001b[39m file\u001b[38;5;241m.\u001b[39mread()\n\u001b[1;32m----> 3\u001b[0m     \u001b[43mfile\u001b[49m\u001b[38;5;241;43m.\u001b[39;49m\u001b[43mwrite\u001b[49m\u001b[43m(\u001b[49m\u001b[38;5;124;43m\"\u001b[39;49m\u001b[38;5;124;43mthis is the first line\u001b[39;49m\u001b[38;5;124;43m\"\u001b[39;49m\u001b[43m)\u001b[49m\n\u001b[0;32m      4\u001b[0m     \u001b[38;5;28mprint\u001b[39m(content)\n",
      "\u001b[1;31mUnsupportedOperation\u001b[0m: not writable"
     ]
    }
   ],
   "source": [
    "with open(\"ramakrishna.execel\", \"r\") as file:\n",
    "    content = file.read()\n",
    "    file.write(\"this is the first line\")\n",
    "    print(content)\n"
   ]
  },
  {
   "cell_type": "code",
   "execution_count": 42,
   "metadata": {},
   "outputs": [
    {
     "ename": "UnsupportedOperation",
     "evalue": "not readable",
     "output_type": "error",
     "traceback": [
      "\u001b[1;31m---------------------------------------------------------------------------\u001b[0m",
      "\u001b[1;31mUnsupportedOperation\u001b[0m                      Traceback (most recent call last)",
      "Cell \u001b[1;32mIn[42], line 2\u001b[0m\n\u001b[0;32m      1\u001b[0m \u001b[38;5;28;01mwith\u001b[39;00m \u001b[38;5;28mopen\u001b[39m(\u001b[38;5;124m\"\u001b[39m\u001b[38;5;124mhelloteam.txt\u001b[39m\u001b[38;5;124m\"\u001b[39m,\u001b[38;5;124m\"\u001b[39m\u001b[38;5;124ma\u001b[39m\u001b[38;5;124m\"\u001b[39m) \u001b[38;5;28;01mas\u001b[39;00m file:\n\u001b[1;32m----> 2\u001b[0m     context\u001b[38;5;241m=\u001b[39m\u001b[43mfile\u001b[49m\u001b[38;5;241;43m.\u001b[39;49m\u001b[43mread\u001b[49m\u001b[43m(\u001b[49m\u001b[43m)\u001b[49m\n\u001b[0;32m      3\u001b[0m     file\u001b[38;5;241m.\u001b[39mcontext()\n\u001b[0;32m      4\u001b[0m     \u001b[38;5;28mprint\u001b[39m(context)\n",
      "\u001b[1;31mUnsupportedOperation\u001b[0m: not readable"
     ]
    }
   ],
   "source": [
    "with open(\"helloteam.txt\",\"a\") as file:\n",
    "    context=file.read()\n",
    "    file.context()\n",
    "    print(context)"
   ]
  },
  {
   "cell_type": "code",
   "execution_count": 47,
   "metadata": {},
   "outputs": [
    {
     "name": "stdout",
     "output_type": "stream",
     "text": [
      "<_io.TextIOWrapper name='helloteam.txt' mode='a' encoding='utf-8'>\n"
     ]
    }
   ],
   "source": [
    "with open(\"helloteam.txt\",\"a\") as file:\n",
    "    file.write(\"hello team good morning this is first line\")\n",
    "    print(file)"
   ]
  },
  {
   "cell_type": "code",
   "execution_count": 94,
   "metadata": {},
   "outputs": [
    {
     "name": "stdout",
     "output_type": "stream",
     "text": [
      "<generator object helloworld.anotherfunc at 0x000001CA7D839150>\n"
     ]
    },
    {
     "ename": "NameError",
     "evalue": "name 'anotherfunc' is not defined",
     "output_type": "error",
     "traceback": [
      "\u001b[1;31m---------------------------------------------------------------------------\u001b[0m",
      "\u001b[1;31mNameError\u001b[0m                                 Traceback (most recent call last)",
      "Cell \u001b[1;32mIn[94], line 13\u001b[0m\n\u001b[0;32m     11\u001b[0m v\u001b[38;5;241m=\u001b[39mhelloworld()\n\u001b[0;32m     12\u001b[0m \u001b[38;5;28mprint\u001b[39m(v\u001b[38;5;241m.\u001b[39manotherfunc(\u001b[38;5;241m7\u001b[39m,\u001b[38;5;241m4\u001b[39m))\n\u001b[1;32m---> 13\u001b[0m \u001b[38;5;28;01mfor\u001b[39;00m value \u001b[38;5;129;01min\u001b[39;00m \u001b[43manotherfunc\u001b[49m:\n\u001b[0;32m     14\u001b[0m     \u001b[38;5;28mprint\u001b[39m(value)\n",
      "\u001b[1;31mNameError\u001b[0m: name 'anotherfunc' is not defined"
     ]
    }
   ],
   "source": [
    "\n",
    "   \n",
    "class helloworld():\n",
    "   \n",
    "   @staticmethod\n",
    "   def anotherfunc(x,y):\n",
    "    print(x)\n",
    "    print(y)\n",
    "    yield x\n",
    "    yield y\n",
    "    return x,y\n",
    "\n",
    "v=helloworld()\n",
    "print(v.anotherfunc(7,4))\n",
    "for value in anotherfunc:\n",
    "    print(value)\n",
    "\n",
    "\n"
   ]
  },
  {
   "cell_type": "code",
   "execution_count": 90,
   "metadata": {},
   "outputs": [
    {
     "name": "stdout",
     "output_type": "stream",
     "text": [
      "7\n",
      "4\n",
      "11\n"
     ]
    }
   ],
   "source": [
    "class helloworld:\n",
    "   \n",
    "    @staticmethod\n",
    "    def anotherfunc(x, y):\n",
    "        #print(x)\n",
    "        #print(y)\n",
    "        yield x  # First, it will yield x\n",
    "        yield y  # Then, it will yield y\n",
    "        print(x + y)  # Finally, it will print the sum of x and y\n",
    "\n",
    "# Calling the static method\n",
    "gen = helloworld.anotherfunc(7, 4)\n",
    "\n",
    "for value in gen:\n",
    "    print(value)\n"
   ]
  },
  {
   "cell_type": "code",
   "execution_count": null,
   "metadata": {},
   "outputs": [],
   "source": [
    "#lambda function\n",
    "\n"
   ]
  }
 ],
 "metadata": {
  "kernelspec": {
   "display_name": "Python 3",
   "language": "python",
   "name": "python3"
  },
  "language_info": {
   "codemirror_mode": {
    "name": "ipython",
    "version": 3
   },
   "file_extension": ".py",
   "mimetype": "text/x-python",
   "name": "python",
   "nbconvert_exporter": "python",
   "pygments_lexer": "ipython3",
   "version": "3.12.4"
  }
 },
 "nbformat": 4,
 "nbformat_minor": 2
}
