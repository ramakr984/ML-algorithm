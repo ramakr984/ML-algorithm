{
 "cells": [
  {
   "cell_type": "code",
   "execution_count": 1,
   "metadata": {},
   "outputs": [
    {
     "data": {
      "text/plain": [
       "125"
      ]
     },
     "execution_count": 1,
     "metadata": {},
     "output_type": "execute_result"
    }
   ],
   "source": [
    "class ramakrishna:\n",
    "    def rama(self,a):\n",
    "        self.a = a\n",
    "        return a**3\n",
    "\n",
    "a  = ramakrishna()\n",
    "a.rama(5)"
   ]
  },
  {
   "cell_type": "code",
   "execution_count": 2,
   "metadata": {},
   "outputs": [
    {
     "name": "stdout",
     "output_type": "stream",
     "text": [
      "hello\n",
      "45\n",
      "2880\n"
     ]
    }
   ],
   "source": [
    "class hello:\n",
    "    def hello(self,str):\n",
    "        #self.a = a\n",
    "        return \"hello\"\n",
    "    def hi(self,b):\n",
    "        #self.b = b\n",
    "        return b\n",
    "    def why(self,a,b,c):\n",
    "        return a*b*c\n",
    "    \n",
    "h1=hello()\n",
    "print(h1.hello(\"rama\"))\n",
    "print(h1.hi(45))\n",
    "print(h1.why(12,15,16))"
   ]
  },
  {
   "cell_type": "markdown",
   "metadata": {},
   "source": [
    " \n"
   ]
  },
  {
   "cell_type": "code",
   "execution_count": 3,
   "metadata": {},
   "outputs": [
    {
     "data": {
      "text/plain": [
       "23"
      ]
     },
     "execution_count": 3,
     "metadata": {},
     "output_type": "execute_result"
    }
   ],
   "source": [
    "class notebook:\n",
    "  @staticmethod\n",
    "  def hello(x):\n",
    "    return x\n",
    "  @staticmethod\n",
    "  def why(y):\n",
    "     return y\n",
    "\n",
    "d=notebook()\n",
    "d.hello(67)\n",
    "d.why(23)   "
   ]
  },
  {
   "cell_type": "code",
   "execution_count": null,
   "metadata": {},
   "outputs": [],
   "source": []
  },
  {
   "cell_type": "code",
   "execution_count": 4,
   "metadata": {},
   "outputs": [
    {
     "name": "stdout",
     "output_type": "stream",
     "text": [
      "ramakrishna\n",
      "verygood\n"
     ]
    }
   ],
   "source": [
    "class New:\n",
    "    def programe(self,name):\n",
    "        #self.a=name\n",
    "        return name\n",
    "    def happy(self,name1):\n",
    "        #self.b=name1\n",
    "        return name1\n",
    "g=New()\n",
    "print(g.programe(\"ramakrishna\"))\n",
    "print(g.happy(\"verygood\"))"
   ]
  },
  {
   "cell_type": "code",
   "execution_count": 5,
   "metadata": {},
   "outputs": [
    {
     "ename": "SyntaxError",
     "evalue": "invalid syntax (3059872780.py, line 15)",
     "output_type": "error",
     "traceback": [
      "\u001b[1;36m  Cell \u001b[1;32mIn[5], line 15\u001b[1;36m\u001b[0m\n\u001b[1;33m    v.\u001b[0m\n\u001b[1;37m      ^\u001b[0m\n\u001b[1;31mSyntaxError\u001b[0m\u001b[1;31m:\u001b[0m invalid syntax\n"
     ]
    }
   ],
   "source": [
    "#abstract method\n",
    "\n",
    "\n",
    "\n",
    "class hello:\n",
    "    def __init__(self,a):\n",
    "        self.a=a\n",
    "        return a\n",
    "        \n",
    "        \n",
    "    # def av(self,a):\n",
    "    #     self.a=a\n",
    "    #     return a\n",
    "v =hello(55)\n",
    "v.\n"
   ]
  },
  {
   "cell_type": "code",
   "execution_count": null,
   "metadata": {},
   "outputs": [
    {
     "name": "stdout",
     "output_type": "stream",
     "text": [
      "starting engine.\n",
      "Mouse is moving.\n",
      "Mouse is steady.\n",
      "Mouse is steady.\n",
      "Mouse is steady.\n",
      "Mouse is steady.\n",
      "Mouse is steady.\n",
      "Mouse is steady.\n",
      "Mouse is steady.\n",
      "Mouse is steady.\n",
      "Mouse is steady.\n",
      "Mouse is steady.\n",
      "Mouse is steady.\n",
      "Mouse is steady.\n",
      "Mouse is steady.\n",
      "Mouse is steady.\n",
      "Mouse is moving.\n",
      "Mouse is moving.\n",
      "Mouse is steady.\n",
      "Mouse is steady.\n",
      "Mouse is steady.\n",
      "Mouse is moving.\n",
      "Mouse is moving.\n",
      "Mouse is moving.\n",
      "Mouse is moving.\n",
      "Mouse is moving.\n",
      "Mouse is moving.\n",
      "Mouse is moving.\n",
      "Mouse is steady.\n",
      "Mouse is steady.\n",
      "Mouse is moving.\n",
      "Mouse is moving.\n",
      "Mouse is steady.\n",
      "Mouse is moving.\n",
      "Mouse is moving.\n",
      "Mouse is steady.\n",
      "Mouse is moving.\n",
      "Mouse is moving.\n",
      "Mouse is steady.\n",
      "Mouse is moving.\n",
      "Mouse is steady.\n",
      "Mouse is steady.\n",
      "Mouse is moving.\n",
      "Mouse is moving.\n",
      "Mouse is moving.\n",
      "Mouse is moving.\n",
      "Mouse is moving.\n",
      "Mouse is steady.\n",
      "Mouse is steady.\n",
      "Mouse is steady.\n",
      "Mouse is steady.\n",
      "Mouse is moving.\n",
      "Mouse is moving.\n",
      "Mouse is steady.\n",
      "Mouse is steady.\n",
      "Mouse is steady.\n",
      "Mouse is moving.\n",
      "Mouse is moving.\n",
      "Mouse is moving.\n",
      "Mouse is steady.\n",
      "Mouse is moving.\n",
      "Mouse is moving.\n",
      "Mouse is steady.\n",
      "Mouse is steady.\n",
      "Mouse is steady.\n",
      "Mouse is steady.\n",
      "Mouse is moving.\n",
      "Mouse is moving.\n",
      "Mouse is moving.\n",
      "Mouse is moving.\n",
      "Mouse is moving.\n",
      "Mouse is moving.\n",
      "Mouse is moving.\n",
      "Mouse is steady.\n",
      "Mouse is steady.\n",
      "Mouse is steady.\n",
      "Mouse is steady.\n",
      "Mouse is moving.\n",
      "Mouse is moving.\n",
      "Mouse is moving.\n",
      "Mouse is moving.\n",
      "Mouse is moving.\n",
      "Mouse is moving.\n",
      "Mouse is steady.\n",
      "Mouse is steady.\n",
      "Mouse is steady.\n",
      "Mouse is steady.\n",
      "Mouse is steady.\n",
      "Mouse is steady.\n",
      "Mouse is steady.\n",
      "Mouse is steady.\n",
      "Mouse is steady.\n",
      "Mouse is steady.\n",
      "Mouse is steady.\n",
      "Mouse is steady.\n",
      "Mouse is steady.\n",
      "Mouse is steady.\n",
      "Mouse is steady.\n",
      "Mouse is steady.\n",
      "Mouse is steady.\n",
      "Mouse is steady.\n",
      "Mouse is steady.\n"
     ]
    }
   ],
   "source": [
    "import win32api\n",
    "from time import sleep\n",
    "print(\"starting engine.\")\n",
    "count = 0\n",
    "while(True):\n",
    "    savedpos = win32api.GetCursorPos()\n",
    "    if count>20*5:\n",
    "        break\n",
    "    sleep(1)\n",
    "    curpos = win32api.GetCursorPos()\n",
    "    if savedpos == curpos:\n",
    "        savedpos = curpos\n",
    "        print(\"Mouse is steady.\")\n",
    "    else: \n",
    "        print(\"Mouse is moving.\")\n",
    "    count += 1"
   ]
  }
 ],
 "metadata": {
  "kernelspec": {
   "display_name": "Python 3",
   "language": "python",
   "name": "python3"
  },
  "language_info": {
   "codemirror_mode": {
    "name": "ipython",
    "version": 3
   },
   "file_extension": ".py",
   "mimetype": "text/x-python",
   "name": "python",
   "nbconvert_exporter": "python",
   "pygments_lexer": "ipython3",
   "version": "3.12.4"
  }
 },
 "nbformat": 4,
 "nbformat_minor": 2
}
